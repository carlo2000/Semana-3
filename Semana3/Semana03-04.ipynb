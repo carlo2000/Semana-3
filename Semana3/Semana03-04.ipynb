{
 "cells": [
  {
   "cell_type": "markdown",
   "id": "6aa976ef",
   "metadata": {},
   "source": [
    "# Semana 03\n",
    "Aquino Llacsa Carlos Daniel"
   ]
  },
  {
   "cell_type": "raw",
   "id": "c7c221dc",
   "metadata": {},
   "source": [
    "Tema:\n",
    "1.Numeros\n",
    "2.Variables\n",
    "3.Manejo de Cadenas\n",
    "4.Ingreso de datos por el teclado\n",
    "5.Operadores"
   ]
  },
  {
   "cell_type": "code",
   "execution_count": 2,
   "id": "9a3d8b7a",
   "metadata": {},
   "outputs": [
    {
     "name": "stdout",
     "output_type": "stream",
     "text": [
      "¿ Cual es tu nombre ?\n",
      "Carlos\n",
      "Hola Carlos\n"
     ]
    }
   ],
   "source": [
    "print( \"¿ Cual es tu nombre ?\")\n",
    "nombre= input()\n",
    "print( f\"Hola {nombre}\")"
   ]
  },
  {
   "cell_type": "code",
   "execution_count": 4,
   "id": "32bb0e53",
   "metadata": {},
   "outputs": [
    {
     "name": "stdout",
     "output_type": "stream",
     "text": [
      "Ingresa el primer numero : \n",
      "50\n",
      "Ingresa el segundo numero : \n",
      "52\n",
      "La suma de ambos numero es: 5052\n"
     ]
    }
   ],
   "source": [
    "print(\"Ingresa el primer numero : \")\n",
    "numero1= input()\n",
    "print(\"Ingresa el segundo numero : \")\n",
    "numero2=input()\n",
    "resultado = int(numero1+numero2)\n",
    "print(f\"La suma de ambos numero es: {resultado}\")\n"
   ]
  },
  {
   "cell_type": "code",
   "execution_count": null,
   "id": "68300ae8",
   "metadata": {},
   "outputs": [],
   "source": []
  },
  {
   "cell_type": "code",
   "execution_count": null,
   "id": "51edb031",
   "metadata": {},
   "outputs": [],
   "source": []
  },
  {
   "cell_type": "code",
   "execution_count": null,
   "id": "aef93860",
   "metadata": {},
   "outputs": [],
   "source": []
  },
  {
   "cell_type": "code",
   "execution_count": null,
   "id": "cdd40267",
   "metadata": {},
   "outputs": [],
   "source": []
  },
  {
   "cell_type": "code",
   "execution_count": null,
   "id": "141b05e5",
   "metadata": {},
   "outputs": [],
   "source": []
  },
  {
   "cell_type": "code",
   "execution_count": null,
   "id": "528981b0",
   "metadata": {},
   "outputs": [],
   "source": []
  }
 ],
 "metadata": {
  "kernelspec": {
   "display_name": "Python 3 (ipykernel)",
   "language": "python",
   "name": "python3"
  },
  "language_info": {
   "codemirror_mode": {
    "name": "ipython",
    "version": 3
   },
   "file_extension": ".py",
   "mimetype": "text/x-python",
   "name": "python",
   "nbconvert_exporter": "python",
   "pygments_lexer": "ipython3",
   "version": "3.9.12"
  }
 },
 "nbformat": 4,
 "nbformat_minor": 5
}
