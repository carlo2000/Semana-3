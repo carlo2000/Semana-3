{
 "cells": [
  {
   "cell_type": "markdown",
   "id": "8a3e1b59",
   "metadata": {},
   "source": [
    "# Semana 03\n",
    "Aquino Llacsa Carlos Daniel\n"
   ]
  },
  {
   "cell_type": "raw",
   "id": "456b02f3",
   "metadata": {},
   "source": [
    "# Tema:\n",
    "    1.Numeros\n",
    "    2.Variables\n",
    "    3.Manejo de Cadenas\n",
    "    4.\n",
    "    5.Operadores\n",
    "    \n",
    "    "
   ]
  },
  {
   "cell_type": "markdown",
   "id": "8b932392",
   "metadata": {},
   "source": [
    "1. numero\n"
   ]
  },
  {
   "cell_type": "code",
   "execution_count": 3,
   "id": "02376c5c",
   "metadata": {},
   "outputs": [
    {
     "data": {
      "text/plain": [
       "9"
      ]
     },
     "execution_count": 3,
     "metadata": {},
     "output_type": "execute_result"
    }
   ],
   "source": [
    "4+5"
   ]
  },
  {
   "cell_type": "code",
   "execution_count": 4,
   "id": "62433dfa",
   "metadata": {},
   "outputs": [
    {
     "data": {
      "text/plain": [
       "45"
      ]
     },
     "execution_count": 4,
     "metadata": {},
     "output_type": "execute_result"
    }
   ],
   "source": [
    "5*9"
   ]
  }
 ],
 "metadata": {
  "kernelspec": {
   "display_name": "Python 3 (ipykernel)",
   "language": "python",
   "name": "python3"
  },
  "language_info": {
   "codemirror_mode": {
    "name": "ipython",
    "version": 3
   },
   "file_extension": ".py",
   "mimetype": "text/x-python",
   "name": "python",
   "nbconvert_exporter": "python",
   "pygments_lexer": "ipython3",
   "version": "3.9.12"
  }
 },
 "nbformat": 4,
 "nbformat_minor": 5
}
