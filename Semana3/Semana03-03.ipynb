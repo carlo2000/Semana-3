{
 "cells": [
  {
   "cell_type": "markdown",
   "id": "564dce37",
   "metadata": {},
   "source": [
    "# Semana 03\n",
    "Aquino Llacsa Carlos Daniel"
   ]
  },
  {
   "cell_type": "raw",
   "id": "da504b61",
   "metadata": {},
   "source": [
    "Tema:\n",
    "1.Numeros\n",
    "2.Variables\n",
    "3.Manejo de Cadenas\n",
    "4.Ingreso de datos por el teclado\n",
    "5.Operadores"
   ]
  },
  {
   "cell_type": "code",
   "execution_count": 2,
   "id": "bd5f832e",
   "metadata": {},
   "outputs": [
    {
     "data": {
      "text/plain": [
       "'Universidad Nacional Tecnologica de Lima Sur'"
      ]
     },
     "execution_count": 2,
     "metadata": {},
     "output_type": "execute_result"
    }
   ],
   "source": [
    "cadena = \"Universidad Nacional Tecnologica de Lima Sur\"\n",
    "cadena"
   ]
  },
  {
   "cell_type": "code",
   "execution_count": 4,
   "id": "9753c67e",
   "metadata": {},
   "outputs": [
    {
     "data": {
      "text/plain": [
       "'U'"
      ]
     },
     "execution_count": 4,
     "metadata": {},
     "output_type": "execute_result"
    }
   ],
   "source": [
    "cadena[0]"
   ]
  },
  {
   "cell_type": "code",
   "execution_count": 5,
   "id": "bb8fc96f",
   "metadata": {},
   "outputs": [
    {
     "data": {
      "text/plain": [
       "' '"
      ]
     },
     "execution_count": 5,
     "metadata": {},
     "output_type": "execute_result"
    }
   ],
   "source": [
    "cadena[11]"
   ]
  },
  {
   "cell_type": "code",
   "execution_count": 9,
   "id": "418baf2e",
   "metadata": {},
   "outputs": [
    {
     "data": {
      "text/plain": [
       "'T'"
      ]
     },
     "execution_count": 9,
     "metadata": {},
     "output_type": "execute_result"
    }
   ],
   "source": [
    "cadena[21]"
   ]
  },
  {
   "cell_type": "code",
   "execution_count": 10,
   "id": "bd7ba2e9",
   "metadata": {},
   "outputs": [
    {
     "data": {
      "text/plain": [
       "'T'"
      ]
     },
     "execution_count": 10,
     "metadata": {},
     "output_type": "execute_result"
    }
   ],
   "source": [
    "cadena[-23]"
   ]
  },
  {
   "cell_type": "code",
   "execution_count": 11,
   "id": "c75dfdec",
   "metadata": {},
   "outputs": [
    {
     "data": {
      "text/plain": [
       "' Naciona'"
      ]
     },
     "execution_count": 11,
     "metadata": {},
     "output_type": "execute_result"
    }
   ],
   "source": [
    "cadena[11:19]"
   ]
  },
  {
   "cell_type": "code",
   "execution_count": 14,
   "id": "3daa79a9",
   "metadata": {},
   "outputs": [
    {
     "data": {
      "text/plain": [
       "44"
      ]
     },
     "execution_count": 14,
     "metadata": {},
     "output_type": "execute_result"
    }
   ],
   "source": [
    "len(cadena)"
   ]
  },
  {
   "cell_type": "code",
   "execution_count": 16,
   "id": "cef9fec2",
   "metadata": {},
   "outputs": [
    {
     "data": {
      "text/plain": [
       "'UNIVERSIDAD NACIONAL TECNOLOGICA DE LIMA SUR'"
      ]
     },
     "execution_count": 16,
     "metadata": {},
     "output_type": "execute_result"
    }
   ],
   "source": [
    "cadena.upper()"
   ]
  },
  {
   "cell_type": "code",
   "execution_count": 18,
   "id": "2a879966",
   "metadata": {},
   "outputs": [
    {
     "data": {
      "text/plain": [
       "'universidad nacional tecnologica de lima sur'"
      ]
     },
     "execution_count": 18,
     "metadata": {},
     "output_type": "execute_result"
    }
   ],
   "source": [
    "cadena.lower()"
   ]
  },
  {
   "cell_type": "code",
   "execution_count": 20,
   "id": "bf19b492",
   "metadata": {},
   "outputs": [
    {
     "data": {
      "text/plain": [
       "['Universidad', 'Nacional', 'Tecnologica', 'de', 'Lima', 'Sur']"
      ]
     },
     "execution_count": 20,
     "metadata": {},
     "output_type": "execute_result"
    }
   ],
   "source": [
    "cadena.split()"
   ]
  },
  {
   "cell_type": "code",
   "execution_count": 22,
   "id": "d8ab7bc9",
   "metadata": {},
   "outputs": [
    {
     "data": {
      "text/plain": [
       "['Universid', 'd N', 'cion', 'l Tecnologic', ' de Lim', ' Sur']"
      ]
     },
     "execution_count": 22,
     "metadata": {},
     "output_type": "execute_result"
    }
   ],
   "source": [
    "cadena.split(\"a\")"
   ]
  },
  {
   "cell_type": "code",
   "execution_count": 24,
   "id": "bbd834d2",
   "metadata": {},
   "outputs": [
    {
     "data": {
      "text/plain": [
       "['Un', 'vers', 'dad Nac', 'onal Tecnolog', 'ca de L', 'ma Sur']"
      ]
     },
     "execution_count": 24,
     "metadata": {},
     "output_type": "execute_result"
    }
   ],
   "source": [
    "cadena.split(\"i\")"
   ]
  },
  {
   "cell_type": "code",
   "execution_count": 25,
   "id": "aba2f3a7",
   "metadata": {},
   "outputs": [
    {
     "name": "stdout",
     "output_type": "stream",
     "text": [
      "Yo estudio en la Universidad Nacional Tecnologica de Lima Sur\n"
     ]
    }
   ],
   "source": [
    "print(\"Yo estudio en la \"+ cadena)"
   ]
  },
  {
   "cell_type": "code",
   "execution_count": 26,
   "id": "33e6378c",
   "metadata": {},
   "outputs": [
    {
     "name": "stdout",
     "output_type": "stream",
     "text": [
      "Yo se que Carlos Daniel tiene 22 años\n"
     ]
    }
   ],
   "source": [
    "nombre = \"Carlos Daniel\"\n",
    "edad = 22\n",
    "print(\"Yo se que {} tiene {} años\".format(nombre,edad))"
   ]
  },
  {
   "cell_type": "code",
   "execution_count": 30,
   "id": "0117026f",
   "metadata": {},
   "outputs": [
    {
     "name": "stdout",
     "output_type": "stream",
     "text": [
      "El resultado de 10/3 es = 3.3333333333333335\n",
      "El resultado de 10/3 es = 3.333\n"
     ]
    }
   ],
   "source": [
    "numero = 10/3\n",
    "print( \"El resultado de 10/3 es = {}\".format(numero))\n",
    "\n",
    "print( \"El resultado de 10/3 es = {n:1.3f}\".format(n=numero))"
   ]
  },
  {
   "cell_type": "code",
   "execution_count": 32,
   "id": "545eeebc",
   "metadata": {},
   "outputs": [
    {
     "name": "stdout",
     "output_type": "stream",
     "text": [
      "El resultado de 10/3 es = 3.3333\n"
     ]
    }
   ],
   "source": [
    "print( \"El resultado de 10/3 es = {x:1.4f}\".format(x=numero))"
   ]
  },
  {
   "cell_type": "code",
   "execution_count": null,
   "id": "b853397b",
   "metadata": {},
   "outputs": [],
   "source": []
  }
 ],
 "metadata": {
  "kernelspec": {
   "display_name": "Python 3 (ipykernel)",
   "language": "python",
   "name": "python3"
  },
  "language_info": {
   "codemirror_mode": {
    "name": "ipython",
    "version": 3
   },
   "file_extension": ".py",
   "mimetype": "text/x-python",
   "name": "python",
   "nbconvert_exporter": "python",
   "pygments_lexer": "ipython3",
   "version": "3.9.12"
  }
 },
 "nbformat": 4,
 "nbformat_minor": 5
}
