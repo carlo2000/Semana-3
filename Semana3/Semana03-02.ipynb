{
 "cells": [
  {
   "cell_type": "markdown",
   "id": "eef73971",
   "metadata": {},
   "source": [
    "# Semana 03\n",
    "Aquino Llacsa Carlos Daniel\n"
   ]
  },
  {
   "cell_type": "markdown",
   "id": "d0a7a958",
   "metadata": {},
   "source": [
    "# Tema:\n",
    "    1.Numeros\n",
    "    2.Variables\n",
    "    3.Manejo de Cadenas\n",
    "    4.Ingreso de datos por el teclado\n",
    "    5.Operadores"
   ]
  },
  {
   "cell_type": "code",
   "execution_count": 6,
   "id": "3e003b68",
   "metadata": {},
   "outputs": [
    {
     "data": {
      "text/plain": [
       "50"
      ]
     },
     "execution_count": 6,
     "metadata": {},
     "output_type": "execute_result"
    }
   ],
   "source": [
    "numero = 50\n",
    "numero\n"
   ]
  },
  {
   "cell_type": "code",
   "execution_count": 7,
   "id": "a2543e20",
   "metadata": {},
   "outputs": [
    {
     "data": {
      "text/plain": [
       "'50'"
      ]
     },
     "execution_count": 7,
     "metadata": {},
     "output_type": "execute_result"
    }
   ],
   "source": [
    "numero2 = str(numero)\n",
    "numero2"
   ]
  },
  {
   "cell_type": "code",
   "execution_count": 8,
   "id": "4dd9b91d",
   "metadata": {},
   "outputs": [
    {
     "data": {
      "text/plain": [
       "50.0"
      ]
     },
     "execution_count": 8,
     "metadata": {},
     "output_type": "execute_result"
    }
   ],
   "source": [
    "numero3 = float(numero)\n",
    "numero3\n"
   ]
  }
 ],
 "metadata": {
  "kernelspec": {
   "display_name": "Python 3 (ipykernel)",
   "language": "python",
   "name": "python3"
  },
  "language_info": {
   "codemirror_mode": {
    "name": "ipython",
    "version": 3
   },
   "file_extension": ".py",
   "mimetype": "text/x-python",
   "name": "python",
   "nbconvert_exporter": "python",
   "pygments_lexer": "ipython3",
   "version": "3.9.12"
  }
 },
 "nbformat": 4,
 "nbformat_minor": 5
}
